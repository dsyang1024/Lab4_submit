{
 "cells": [
  {
   "cell_type": "markdown",
   "metadata": {},
   "source": [
    "This is a how to guide for importing data from .csv file to Django database (SQLite). You will see example data classes. Please note that those classes are for demonstration only. You are free to create classes in the way you see fit the best. \n",
    "\n",
    "The end goal is to create a JSON data that will be used to import data by Django built-in command. The format we want is structured as below. (more detail check -> https://docs.djangoproject.com/en/5.1/howto/initial-data/)\n",
    "\n",
    "```JSON\n",
    "[\n",
    "  {\n",
    "    \"model\": \"myapp.classname\",\n",
    "    \"pk\": 1,\n",
    "    \"fields\": {\n",
    "      \"attribute_name1\": \"Value\",\n",
    "      \"attribute_name2\": \"Value\"\n",
    "    }\n",
    "  },\n",
    "  {\n",
    "    \"model\": \"myapp.field\",\n",
    "    \"pk\": 2,\n",
    "    \"fields\": {\n",
    "      \"field_id\": \"32\",\n",
    "      \"field_name\": \"Corner\"\n",
    "    }\n",
    "  }\n",
    "]\n",
    "\n",
    "```\n",
    "\n",
    "In Python, you can assume that JSON is Dictionary-like data type. So, the overall step is .csv -> Pandas dataframe -> dictionary ->JSON. \n",
    "\n",
    "Let's start with importing necessary modules. In this case, we only need 2 modules. Then load data from .csv to Pandas dataframe (we did this before in lab 2)."
   ]
  },
  {
   "cell_type": "code",
   "execution_count": 1,
   "metadata": {},
   "outputs": [],
   "source": [
    "# import python's module\n",
    "import pandas as pd\n",
    "import json"
   ]
  },
  {
   "cell_type": "code",
   "execution_count": 2,
   "metadata": {},
   "outputs": [
    {
     "data": {
      "text/html": [
       "<div>\n",
       "<style scoped>\n",
       "    .dataframe tbody tr th:only-of-type {\n",
       "        vertical-align: middle;\n",
       "    }\n",
       "\n",
       "    .dataframe tbody tr th {\n",
       "        vertical-align: top;\n",
       "    }\n",
       "\n",
       "    .dataframe thead th {\n",
       "        text-align: right;\n",
       "    }\n",
       "</style>\n",
       "<table border=\"1\" class=\"dataframe\">\n",
       "  <thead>\n",
       "    <tr style=\"text-align: right;\">\n",
       "      <th></th>\n",
       "      <th>date</th>\n",
       "      <th>operator</th>\n",
       "      <th>location</th>\n",
       "      <th>operation</th>\n",
       "      <th>note</th>\n",
       "      <th>Power Unit</th>\n",
       "      <th>Seeds planted</th>\n",
       "      <th>Seeding Rate (seeds/ac)</th>\n",
       "      <th>Fertilizers applied</th>\n",
       "      <th>Fertilizer Rate (lb/ac)</th>\n",
       "    </tr>\n",
       "  </thead>\n",
       "  <tbody>\n",
       "    <tr>\n",
       "      <th>0</th>\n",
       "      <td>4/24/2022</td>\n",
       "      <td>Evan</td>\n",
       "      <td>200</td>\n",
       "      <td>Spread/Spray</td>\n",
       "      <td>2-4D round up burn down</td>\n",
       "      <td>Hagie STS12</td>\n",
       "      <td>NaN</td>\n",
       "      <td>NaN</td>\n",
       "      <td>NaN</td>\n",
       "      <td>NaN</td>\n",
       "    </tr>\n",
       "    <tr>\n",
       "      <th>1</th>\n",
       "      <td>4/27/2022</td>\n",
       "      <td>Bryan</td>\n",
       "      <td>6</td>\n",
       "      <td>Spread/Spray</td>\n",
       "      <td>20oz ru, 11 24d</td>\n",
       "      <td>Hagie STS12</td>\n",
       "      <td>NaN</td>\n",
       "      <td>NaN</td>\n",
       "      <td>NaN</td>\n",
       "      <td>NaN</td>\n",
       "    </tr>\n",
       "    <tr>\n",
       "      <th>2</th>\n",
       "      <td>4/27/2022</td>\n",
       "      <td>Bryan</td>\n",
       "      <td>5</td>\n",
       "      <td>Spread/Spray</td>\n",
       "      <td>20 oz ru/ 11 oz 24d</td>\n",
       "      <td>Hagie STS12</td>\n",
       "      <td>NaN</td>\n",
       "      <td>NaN</td>\n",
       "      <td>NaN</td>\n",
       "      <td>NaN</td>\n",
       "    </tr>\n",
       "    <tr>\n",
       "      <th>3</th>\n",
       "      <td>4/27/2022</td>\n",
       "      <td>Bryan</td>\n",
       "      <td>Cotton</td>\n",
       "      <td>Spread/Spray</td>\n",
       "      <td>20 oz ru. 11 oz 24d</td>\n",
       "      <td>Hagie STS12</td>\n",
       "      <td>NaN</td>\n",
       "      <td>NaN</td>\n",
       "      <td>NaN</td>\n",
       "      <td>NaN</td>\n",
       "    </tr>\n",
       "    <tr>\n",
       "      <th>4</th>\n",
       "      <td>4/27/2022</td>\n",
       "      <td>Bryan</td>\n",
       "      <td>101</td>\n",
       "      <td>Spread/Spray</td>\n",
       "      <td>20 oz ru 11 oz 24d</td>\n",
       "      <td>Hagie STS12</td>\n",
       "      <td>NaN</td>\n",
       "      <td>NaN</td>\n",
       "      <td>NaN</td>\n",
       "      <td>NaN</td>\n",
       "    </tr>\n",
       "    <tr>\n",
       "      <th>...</th>\n",
       "      <td>...</td>\n",
       "      <td>...</td>\n",
       "      <td>...</td>\n",
       "      <td>...</td>\n",
       "      <td>...</td>\n",
       "      <td>...</td>\n",
       "      <td>...</td>\n",
       "      <td>...</td>\n",
       "      <td>...</td>\n",
       "      <td>...</td>\n",
       "    </tr>\n",
       "    <tr>\n",
       "      <th>428</th>\n",
       "      <td>11/17/2022</td>\n",
       "      <td>Ceres</td>\n",
       "      <td>105</td>\n",
       "      <td>Spread/Spray</td>\n",
       "      <td>VRF MAP: 153 lbs/ac\\r\\nVRF Potash: 133 lbs/ac</td>\n",
       "      <td>NaN</td>\n",
       "      <td>NaN</td>\n",
       "      <td>NaN</td>\n",
       "      <td>MAP,Potash (0-0-60)</td>\n",
       "      <td>NaN</td>\n",
       "    </tr>\n",
       "    <tr>\n",
       "      <th>429</th>\n",
       "      <td>11/17/2022</td>\n",
       "      <td>Ceres</td>\n",
       "      <td>111</td>\n",
       "      <td>Spread/Spray</td>\n",
       "      <td>VRF MAP: 139 lbs/ac\\r\\nVRF Potash: 121 lbs/ac</td>\n",
       "      <td>NaN</td>\n",
       "      <td>NaN</td>\n",
       "      <td>NaN</td>\n",
       "      <td>MAP,Potash (0-0-60)</td>\n",
       "      <td>NaN</td>\n",
       "    </tr>\n",
       "    <tr>\n",
       "      <th>430</th>\n",
       "      <td>11/17/2022</td>\n",
       "      <td>Ceres</td>\n",
       "      <td>33</td>\n",
       "      <td>Spread/Spray</td>\n",
       "      <td>VRF MAP: 154 lbs/ac</td>\n",
       "      <td>NaN</td>\n",
       "      <td>NaN</td>\n",
       "      <td>NaN</td>\n",
       "      <td>MAP</td>\n",
       "      <td>NaN</td>\n",
       "    </tr>\n",
       "    <tr>\n",
       "      <th>431</th>\n",
       "      <td>11/17/2022</td>\n",
       "      <td>Ceres</td>\n",
       "      <td>41</td>\n",
       "      <td>Spread/Spray</td>\n",
       "      <td>VRF MAP: 115.8 lbs/ac</td>\n",
       "      <td>NaN</td>\n",
       "      <td>NaN</td>\n",
       "      <td>NaN</td>\n",
       "      <td>MAP</td>\n",
       "      <td>NaN</td>\n",
       "    </tr>\n",
       "    <tr>\n",
       "      <th>432</th>\n",
       "      <td>11/17/2022</td>\n",
       "      <td>Ceres</td>\n",
       "      <td>5</td>\n",
       "      <td>Spread/Spray</td>\n",
       "      <td>MAP: 240 lbs/ac\\r\\nPotash: 225 lbs/ac</td>\n",
       "      <td>NaN</td>\n",
       "      <td>NaN</td>\n",
       "      <td>NaN</td>\n",
       "      <td>MAP,Potash (0-0-60)</td>\n",
       "      <td>NaN</td>\n",
       "    </tr>\n",
       "  </tbody>\n",
       "</table>\n",
       "<p>433 rows × 10 columns</p>\n",
       "</div>"
      ],
      "text/plain": [
       "           date operator location     operation  \\\n",
       "0     4/24/2022     Evan      200  Spread/Spray   \n",
       "1     4/27/2022    Bryan        6  Spread/Spray   \n",
       "2     4/27/2022    Bryan        5  Spread/Spray   \n",
       "3     4/27/2022    Bryan   Cotton  Spread/Spray   \n",
       "4     4/27/2022    Bryan      101  Spread/Spray   \n",
       "..          ...      ...      ...           ...   \n",
       "428  11/17/2022    Ceres      105  Spread/Spray   \n",
       "429  11/17/2022    Ceres      111  Spread/Spray   \n",
       "430  11/17/2022    Ceres       33  Spread/Spray   \n",
       "431  11/17/2022    Ceres       41  Spread/Spray   \n",
       "432  11/17/2022    Ceres        5  Spread/Spray   \n",
       "\n",
       "                                              note   Power Unit Seeds planted  \\\n",
       "0                         2-4D round up burn down   Hagie STS12           NaN   \n",
       "1                                  20oz ru, 11 24d  Hagie STS12           NaN   \n",
       "2                              20 oz ru/ 11 oz 24d  Hagie STS12           NaN   \n",
       "3                              20 oz ru. 11 oz 24d  Hagie STS12           NaN   \n",
       "4                               20 oz ru 11 oz 24d  Hagie STS12           NaN   \n",
       "..                                             ...          ...           ...   \n",
       "428  VRF MAP: 153 lbs/ac\\r\\nVRF Potash: 133 lbs/ac          NaN           NaN   \n",
       "429  VRF MAP: 139 lbs/ac\\r\\nVRF Potash: 121 lbs/ac          NaN           NaN   \n",
       "430                            VRF MAP: 154 lbs/ac          NaN           NaN   \n",
       "431                          VRF MAP: 115.8 lbs/ac          NaN           NaN   \n",
       "432          MAP: 240 lbs/ac\\r\\nPotash: 225 lbs/ac          NaN           NaN   \n",
       "\n",
       "     Seeding Rate (seeds/ac)  Fertilizers applied  Fertilizer Rate (lb/ac)  \n",
       "0                        NaN                  NaN                      NaN  \n",
       "1                        NaN                  NaN                      NaN  \n",
       "2                        NaN                  NaN                      NaN  \n",
       "3                        NaN                  NaN                      NaN  \n",
       "4                        NaN                  NaN                      NaN  \n",
       "..                       ...                  ...                      ...  \n",
       "428                      NaN  MAP,Potash (0-0-60)                      NaN  \n",
       "429                      NaN  MAP,Potash (0-0-60)                      NaN  \n",
       "430                      NaN                  MAP                      NaN  \n",
       "431                      NaN                  MAP                      NaN  \n",
       "432                      NaN  MAP,Potash (0-0-60)                      NaN  \n",
       "\n",
       "[433 rows x 10 columns]"
      ]
     },
     "execution_count": 2,
     "metadata": {},
     "output_type": "execute_result"
    }
   ],
   "source": [
    "# load data\n",
    "log_df = pd.read_csv(\"operation-log.csv\")  \n",
    "log_df\n",
    "# _df stands for data frame. It is a common suffix to indicate variable type. "
   ]
  },
  {
   "cell_type": "markdown",
   "metadata": {},
   "source": [
    "First data class I want to create is event class ass below. As you can see that I created a class with attributes that we don't have data. That is okay, we can leave those attributes optional by adding `blank=True, null=True` (more detail here -> https://docs.djangoproject.com/en/5.1/ref/models/fields/#field-options).\n",
    "\n",
    "```python \n",
    "class event(models.Model):\n",
    "    # event_date = models.DateTimeField(default=datetime.now, blank=True)\n",
    "    event_operator = models.CharField(max_length=50)\n",
    "    event_operation = models.CharField(choices=EVENT_TYPES, max_length=10)\n",
    "    event_location = models.CharField(max_length=30)\n",
    "\n",
    "    def __str__(self):\n",
    "        return self.event_id\n",
    "```\n",
    "\n",
    "You can think of a database class as a table. So, let's create an `event` table (dataframe). We will use Pandas' Unique fucntion to see how many event rows we need to create. (more detail about unique function -> https://pandas.pydata.org/docs/reference/api/pandas.unique.html)"
   ]
  },
  {
   "cell_type": "code",
   "execution_count": 6,
   "metadata": {},
   "outputs": [
    {
     "data": {
      "text/plain": [
       "array(['Spread/Spray', 'Tillage', 'Plant', 'Harvest', 'Soil Sampled'],\n",
       "      dtype=object)"
      ]
     },
     "execution_count": 6,
     "metadata": {},
     "output_type": "execute_result"
    }
   ],
   "source": [
    "# ! check this DK\n",
    "log_df['operation'].unique() # find a unique value in dataframe's `event` column"
   ]
  },
  {
   "cell_type": "markdown",
   "metadata": {},
   "source": [
    "The result from unique function is an array which is iterable. We will iterate over the array and create a dataframe. There are several ways to create a dataframe. But I recommend doing by using a list of dict or a dict of list. I will show you the first case. "
   ]
  },
  {
   "cell_type": "code",
   "execution_count": 8,
   "metadata": {},
   "outputs": [
    {
     "data": {
      "text/plain": [
       "[{'operation': 'Spread/Spray'},\n",
       " {'operation': 'Tillage'},\n",
       " {'operation': 'Plant'},\n",
       " {'operation': 'Harvest'},\n",
       " {'operation': 'Soil Sampled'}]"
      ]
     },
     "execution_count": 8,
     "metadata": {},
     "output_type": "execute_result"
    }
   ],
   "source": [
    "# create a list which we will add dictionaries later\n",
    "event = [] # suffix s is common way to indicate a list (array)\n",
    "\n",
    "# ! check this DK\n",
    "for operation in log_df['operation'].unique(): # we iterate over the result from unique function\n",
    "    event.append( # append new element to the list\n",
    "        { # curly bracket indicate the starting of dictionary\n",
    "            \"operation\": operation, # each key-value pair\n",
    "        } # the end of dictionary\n",
    "    )\n",
    "event # check the outcome"
   ]
  },
  {
   "cell_type": "markdown",
   "metadata": {},
   "source": [
    "Now we have a list of dictionaries. Making a dataframe is just one function. Note that I leave `lastname` and `phone` emtyp. This is an explicit way to work with optional attribute. You can also just ignore that attribute like I did with `middlename`. You will get the same outcome. "
   ]
  },
  {
   "cell_type": "code",
   "execution_count": 9,
   "metadata": {},
   "outputs": [
    {
     "data": {
      "text/html": [
       "<div>\n",
       "<style scoped>\n",
       "    .dataframe tbody tr th:only-of-type {\n",
       "        vertical-align: middle;\n",
       "    }\n",
       "\n",
       "    .dataframe tbody tr th {\n",
       "        vertical-align: top;\n",
       "    }\n",
       "\n",
       "    .dataframe thead th {\n",
       "        text-align: right;\n",
       "    }\n",
       "</style>\n",
       "<table border=\"1\" class=\"dataframe\">\n",
       "  <thead>\n",
       "    <tr style=\"text-align: right;\">\n",
       "      <th></th>\n",
       "      <th>operation</th>\n",
       "    </tr>\n",
       "  </thead>\n",
       "  <tbody>\n",
       "    <tr>\n",
       "      <th>0</th>\n",
       "      <td>Spread/Spray</td>\n",
       "    </tr>\n",
       "    <tr>\n",
       "      <th>1</th>\n",
       "      <td>Tillage</td>\n",
       "    </tr>\n",
       "    <tr>\n",
       "      <th>2</th>\n",
       "      <td>Plant</td>\n",
       "    </tr>\n",
       "    <tr>\n",
       "      <th>3</th>\n",
       "      <td>Harvest</td>\n",
       "    </tr>\n",
       "    <tr>\n",
       "      <th>4</th>\n",
       "      <td>Soil Sampled</td>\n",
       "    </tr>\n",
       "  </tbody>\n",
       "</table>\n",
       "</div>"
      ],
      "text/plain": [
       "      operation\n",
       "0  Spread/Spray\n",
       "1       Tillage\n",
       "2         Plant\n",
       "3       Harvest\n",
       "4  Soil Sampled"
      ]
     },
     "execution_count": 9,
     "metadata": {},
     "output_type": "execute_result"
    }
   ],
   "source": [
    "# create a dataframe\n",
    "event_df = pd.DataFrame(event)\n",
    "event_df"
   ]
  },
  {
   "cell_type": "markdown",
   "metadata": {},
   "source": [
    "The next step is to structure the data as required (check data format above). We will need to add `model` which is the class's name in the database. And `pk` or primary key which is the row's index. We want JSON at the end, but JSON is pretty much like dictionary in Python. So, we just need to create a (list of) dictionary."
   ]
  },
  {
   "cell_type": "code",
   "execution_count": 10,
   "metadata": {},
   "outputs": [
    {
     "data": {
      "text/plain": [
       "[{'model': 'acrelog.event', 'pk': 1, 'fields': {'operation': 'Spread/Spray'}},\n",
       " {'model': 'acrelog.event', 'pk': 2, 'fields': {'operation': 'Tillage'}},\n",
       " {'model': 'acrelog.event', 'pk': 3, 'fields': {'operation': 'Plant'}},\n",
       " {'model': 'acrelog.event', 'pk': 4, 'fields': {'operation': 'Harvest'}},\n",
       " {'model': 'acrelog.event', 'pk': 5, 'fields': {'operation': 'Soil Sampled'}}]"
      ]
     },
     "execution_count": 10,
     "metadata": {},
     "output_type": "execute_result"
    }
   ],
   "source": [
    "events = [] # create an empty list\n",
    "for index, row in event_df.iterrows(): # we iterate over the dataframe row by row\n",
    "    events.append( # append new element to the list\n",
    "        { # curly bracket indicate the starting of dictionary\n",
    "            \"model\": \"acrelog.event\",  # the class name\n",
    "            \"pk\": index+1, # index starts at 0 while primary key starts at 1. \n",
    "            \"fields\": { # this is a dictionary of attributes\n",
    "                \"operation\": row['operation'] # only need firstname for now\n",
    "            }\n",
    "        } # the end of dictionary\n",
    "    )\n",
    "events # see the result"
   ]
  },
  {
   "cell_type": "markdown",
   "metadata": {},
   "source": [
    "Now we have the data in the format that we need. To convert into JSON, you can just run the following command. Then you can copy the result and check with https://jsonlint.com/"
   ]
  },
  {
   "cell_type": "code",
   "execution_count": 11,
   "metadata": {},
   "outputs": [
    {
     "data": {
      "text/plain": [
       "'[{\"model\": \"acrelog.event\", \"pk\": 1, \"fields\": {\"operation\": \"Spread/Spray\"}}, {\"model\": \"acrelog.event\", \"pk\": 2, \"fields\": {\"operation\": \"Tillage\"}}, {\"model\": \"acrelog.event\", \"pk\": 3, \"fields\": {\"operation\": \"Plant\"}}, {\"model\": \"acrelog.event\", \"pk\": 4, \"fields\": {\"operation\": \"Harvest\"}}, {\"model\": \"acrelog.event\", \"pk\": 5, \"fields\": {\"operation\": \"Soil Sampled\"}}]'"
      ]
     },
     "execution_count": 11,
     "metadata": {},
     "output_type": "execute_result"
    }
   ],
   "source": [
    "json.dumps(events)"
   ]
  },
  {
   "cell_type": "code",
   "execution_count": 13,
   "metadata": {},
   "outputs": [],
   "source": [
    "# or write the JSON to the file directly \n",
    "with open('operation-data.json', 'w') as fp:\n",
    "    json.dump(events, fp=fp, indent=4)"
   ]
  },
  {
   "cell_type": "markdown",
   "metadata": {},
   "source": [
    "You might wonder why we create a dictionary then convert into a dataframe just for turn it into a dictionary again. Can you just make a dictionary that follows the required stucture directly? Absolutely yes. In some cases, that will be the better way to deal with the data. But there is a usecase for a dataframe as well. You will see it soon. For now, let's create another data class. \n",
    "\n",
    "```python\n",
    "class Operation(models.Model):\n",
    "    date = models.DateField()\n",
    "    note = models.CharField(max_length=300, blank=True, null=True)\n",
    "    event = models.ForeignKey(event, on_delete=models.CASCADE)\n",
    "```\n",
    "In this class, it has a foreignkey that points to event class. So, instead of recording event name, we will keep the primary key that points to that event. For better understanding, I will trim the original dataframe to keep only the data that we will play with."
   ]
  },
  {
   "cell_type": "code",
   "execution_count": null,
   "metadata": {},
   "outputs": [],
   "source": [
    "# you can subset the dataframe with any columns (and order)\n",
    "sub_log_df = log_df[['date', 'event', 'note']]\n",
    "sub_log_df"
   ]
  },
  {
   "cell_type": "markdown",
   "metadata": {},
   "source": [
    "We will use the map function (more detail -> https://pandas.pydata.org/docs/reference/api/pandas.Series.map.html) to map from the event's name to primary key. The map functions take several options. But we will use dictionary. The dictionary we want has event's names as keys and primary keys as values. Do you feel that this structure looks familar. Yes, that is the event dataframe that we created earlier. "
   ]
  },
  {
   "cell_type": "code",
   "execution_count": null,
   "metadata": {},
   "outputs": [],
   "source": [
    "event_df"
   ]
  },
  {
   "cell_type": "markdown",
   "metadata": {},
   "source": [
    "As I mentioned earlier, dataframe is made from a list of dictionaries or a dictionary of lists. We can convert it back as well."
   ]
  },
  {
   "cell_type": "code",
   "execution_count": null,
   "metadata": {},
   "outputs": [],
   "source": [
    "event_df.to_dict()"
   ]
  },
  {
   "cell_type": "markdown",
   "metadata": {},
   "source": [
    "The format you see above is a dictionary of list. We want to use firstname to map with primary key (or dataframe's index). So we will only care about the `firstname`."
   ]
  },
  {
   "cell_type": "code",
   "execution_count": null,
   "metadata": {},
   "outputs": [],
   "source": [
    "event_df.to_dict()['firstname']"
   ]
  },
  {
   "cell_type": "markdown",
   "metadata": {},
   "source": [
    "Almost done. We want a dictionary that keys are firstname and values are primary keys. But what we got is opposite. No problem, we just need to inverse it (and add 1 to pandas' index to make it become primary key)"
   ]
  },
  {
   "cell_type": "code",
   "execution_count": null,
   "metadata": {},
   "outputs": [],
   "source": [
    "index_name = event_df.to_dict()['firstname']\n",
    "name2pk = dict((v, k+1) for k, v in index_name.items())\n",
    "name2pk"
   ]
  },
  {
   "cell_type": "markdown",
   "metadata": {},
   "source": [
    "We got it. Now, let map the event's name to primary key."
   ]
  },
  {
   "cell_type": "code",
   "execution_count": null,
   "metadata": {},
   "outputs": [],
   "source": [
    "sub_log_df['event'] = sub_log_df['event'].map(name2pk) \n",
    "sub_log_df"
   ]
  },
  {
   "cell_type": "markdown",
   "metadata": {},
   "source": [
    "Before we make the final dictionary, we need to deal with date format. Django's SQLite expects `YYYY-MM-DD` format. So, we need to fix our date column a little bit. What you see is only string (a series of charactor). Python has a date (or datetime) variable for dealing with this type of data. Date data type is numerial. So, we can do calulation and also, in our case, format in the way we want. First, we need to convert string to datetime. "
   ]
  },
  {
   "cell_type": "code",
   "execution_count": null,
   "metadata": {},
   "outputs": [],
   "source": [
    "pd.to_datetime(sub_log_df['date'])"
   ]
  },
  {
   "cell_type": "markdown",
   "metadata": {},
   "source": [
    "As you can see, we have a date column which we can do many thing on it. But we will just convert it back into string (with the format that we want). Then we will make a dictionary and JSON. The function we use is `strftime` (string from time)."
   ]
  },
  {
   "cell_type": "code",
   "execution_count": null,
   "metadata": {},
   "outputs": [],
   "source": [
    "sub_log_df['date'] = pd.to_datetime(sub_log_df['date']).dt.strftime('%Y-%m-%d')\n",
    "sub_log_df"
   ]
  },
  {
   "cell_type": "markdown",
   "metadata": {},
   "source": [
    "Now, we have everything ready. Let's create the final dictionary."
   ]
  },
  {
   "cell_type": "code",
   "execution_count": null,
   "metadata": {},
   "outputs": [],
   "source": [
    "logs = []\n",
    "for index, row in sub_log_df.iterrows():\n",
    "    logs.append({\n",
    "        \"model\": \"acrelog.operation\", \n",
    "        \"pk\": index+1,\n",
    "        \"fields\": {\n",
    "            \"date\": row['date'],\n",
    "            \"event\": row['event'],\n",
    "            \"note\": row['note'],\n",
    "        }\n",
    "    })\n",
    "logs"
   ]
  },
  {
   "cell_type": "markdown",
   "metadata": {},
   "source": [
    "You can dump the dictionary to JSON then load the JSON file to the database."
   ]
  }
 ],
 "metadata": {
  "kernelspec": {
   "display_name": "asm591",
   "language": "python",
   "name": "python3"
  },
  "language_info": {
   "codemirror_mode": {
    "name": "ipython",
    "version": 3
   },
   "file_extension": ".py",
   "mimetype": "text/x-python",
   "name": "python",
   "nbconvert_exporter": "python",
   "pygments_lexer": "ipython3",
   "version": "3.10.9"
  }
 },
 "nbformat": 4,
 "nbformat_minor": 2
}
